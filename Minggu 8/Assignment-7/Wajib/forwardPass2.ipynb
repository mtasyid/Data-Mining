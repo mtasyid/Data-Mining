{
 "cells": [
  {
   "cell_type": "code",
   "execution_count": null,
   "metadata": {},
   "outputs": [],
   "source": [
    "def forwardPass(inputs,weight,bias,activation = 'linear'):\n",
    "    w_sum = np.dot(inputs,weight) + bias\n",
    "\n",
    "    if activation is 'relu' :\n",
    "        act = np.maximum(w_sum,0)\n",
    "    else :\n",
    "        act = w_sum\n",
    "    \n",
    "    return act"
   ]
  }
 ],
 "metadata": {
  "language_info": {
   "name": "python"
  },
  "orig_nbformat": 4
 },
 "nbformat": 4,
 "nbformat_minor": 2
}
