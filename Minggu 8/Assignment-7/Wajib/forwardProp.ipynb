{
 "cells": [
  {
   "cell_type": "code",
   "execution_count": null,
   "metadata": {},
   "outputs": [],
   "source": [
    "import numpy as np \n",
    "\n",
    "def forwardPass(inputs,weight,bias):\n",
    "    w_sum = np.dot(inputs,weight) + bias\n",
    "\n",
    "    act = w_sum\n",
    "    return act\n",
    "\n",
    "W = np.array([[2.99999928]])\n",
    "b = np.array ([1.99999976])\n",
    "\n",
    "inputs= np.array([[7],[8],[9],[10]])\n",
    "\n",
    "o_out = forwardPass(inputs,W,b)\n",
    "\n",
    "print ('Output Layer Output (Linear)')\n",
    "print ('============================')\n",
    "print (o_out, \"\\n\")\n",
    "\n",
    "\"\"\"\n",
    "[[22.99999472]\n",
    " [25.999994  ]\n",
    " [28.99999328]\n",
    " [31.99999256]]\n",
    "\"\"\""
   ]
  }
 ],
 "metadata": {
  "language_info": {
   "name": "python"
  },
  "orig_nbformat": 4
 },
 "nbformat": 4,
 "nbformat_minor": 2
}
