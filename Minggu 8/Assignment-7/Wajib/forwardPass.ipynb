{
 "cells": [
  {
   "cell_type": "code",
   "execution_count": null,
   "metadata": {},
   "outputs": [],
   "source": [
    "def forwardPass(inputs,weight,bias):\n",
    "    w_sum = np.dot(inputs,weight) + bias \n",
    "\n",
    "    act = w_sum\n",
    "    return act"
   ]
  }
 ],
 "metadata": {
  "language_info": {
   "name": "python"
  },
  "orig_nbformat": 4
 },
 "nbformat": 4,
 "nbformat_minor": 2
}
